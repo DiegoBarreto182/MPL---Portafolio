{
 "cells": [
  {
   "cell_type": "code",
   "execution_count": 10,
   "metadata": {},
   "outputs": [],
   "source": [
    "import bs4 as bs \n",
    "import urllib.request"
   ]
  },
  {
   "cell_type": "code",
   "execution_count": 15,
   "metadata": {},
   "outputs": [
    {
     "name": "stdout",
     "output_type": "stream",
     "text": [
      "URLs: https://es.wikipedia.org/wiki/Felis_silvestris_catus\n",
      "URLs: https://es.wikipedia.org/wiki/Canis_familiaris\n",
      "URLs: https://es.wikipedia.org/wiki/Selachimorpha\n",
      "URLs: https://es.wikipedia.org/wiki/Phocidae\n",
      "URLs: https://es.wikipedia.org/wiki/Pato\n",
      "URLs: https://es.wikipedia.org/wiki/Panthera_leo\n",
      "URLs: https://es.wikipedia.org/wiki/Equus_ferus_caballus\n",
      "URLs: https://es.wikipedia.org/wiki/Elephantidae\n",
      "URLs: https://es.wikipedia.org/wiki/Testudines\n",
      "URLs: https://es.wikipedia.org/wiki/Equus_africanus_asinus\n",
      "URLs: https://es.wikipedia.org/wiki/Panthera_tigris\n",
      "URLs: https://es.wikipedia.org/wiki/Bos_primigenius_taurus\n"
     ]
    }
   ],
   "source": [
    "links = [\"https://es.wikipedia.org/wiki/Canis_familiaris\",\n",
    "        \"https://es.wikipedia.org/wiki/Selachimorpha\",\n",
    "        \"https://es.wikipedia.org/wiki/Phocidae\",\n",
    "        \"https://es.wikipedia.org/wiki/Pato\",\n",
    "        \"https://es.wikipedia.org/wiki/Panthera_leo\",\n",
    "        \"https://es.wikipedia.org/wiki/Equus_ferus_caballus\",\n",
    "        \"https://es.wikipedia.org/wiki/Elephantidae\",\n",
    "        \"https://es.wikipedia.org/wiki/Testudines\",\n",
    "        \"https://es.wikipedia.org/wiki/Equus_africanus_asinus\",\n",
    "        \"https://es.wikipedia.org/wiki/Panthera_tigris\"]\n",
    "for li in link:\n",
    "    print(f\"URLs: {li}\")\n"
   ]
  },
  {
   "cell_type": "code",
   "execution_count": 16,
   "metadata": {},
   "outputs": [
    {
     "name": "stdout",
     "output_type": "stream",
     "text": [
      "Encabezado: Canis familiaris\n",
      "Encabezado: Selachimorpha\n",
      "Encabezado: Phocidae\n",
      "Encabezado: Pato\n",
      "Encabezado: Panthera leo\n",
      "Encabezado: Equus ferus caballus\n",
      "Encabezado: Elephantidae\n",
      "Encabezado: Testudines\n",
      "Encabezado: Equus africanus asinus\n",
      "Encabezado: Panthera tigris\n"
     ]
    }
   ],
   "source": [
    "for li in links:\n",
    "    request = urllib.request.Request(li, headers={'User-Agent': 'Mozilla/5.0'}) \n",
    "  \n",
    "    webpage = urllib.request.urlopen(request) \n",
    "    source = webpage.read() \n",
    "    webpage.close() \n",
    "    soup = bs.BeautifulSoup(source, 'html.parser')\n",
    "\n",
    "    h1 = soup.find(\"h1\").text\n",
    "    \n",
    "    print(f\"Encabezado: {h1}\")"
   ]
  },
  {
   "cell_type": "code",
   "execution_count": 19,
   "metadata": {},
   "outputs": [],
   "source": [
    "lista = []\n",
    "for li in link:\n",
    "    request = urllib.request.Request(li, headers={'User-Agent': 'Mozilla/5.0'})\n",
    "    webpage = urllib.request.urlopen(request) \n",
    "    source = webpage.read() \n",
    "    webpage.close() \n",
    "    soup = bs.BeautifulSoup(source, 'html.parser')\n",
    "\n",
    "    d=soup.find(\"p\")\n",
    "    for d in d.find_all('b'):\n",
    "        texto = \"\"\n",
    "        texto = d.get_text()+texto\n",
    "        lista.append(texto)"
   ]
  },
  {
   "cell_type": "code",
   "execution_count": 20,
   "metadata": {},
   "outputs": [
    {
     "data": {
      "text/plain": [
       "['gato doméstico',\n",
       " 'Felis silvestris catus',\n",
       " 'gato',\n",
       " 'minino',\n",
       " 'michino',\n",
       " 'michi',\n",
       " 'micho',\n",
       " 'mizo',\n",
       " 'miz',\n",
       " 'morroño',\n",
       " 'morrongo',\n",
       " 'perro',\n",
       " 'Canis familiaris',\n",
       " 'Canis lupus familiaris',\n",
       " 'perro doméstico',\n",
       " 'can',\n",
       " 'chucho',\n",
       " 'tuso',\n",
       " 'choco',\n",
       " 'selaquimorfos',\n",
       " 'selacimorfos',\n",
       " 'Selachimorpha',\n",
       " 'tiburones',\n",
       " 'escualos',\n",
       " 'jaquetones',\n",
       " 'fócidos',\n",
       " 'focas verdaderas',\n",
       " 'Phocidae',\n",
       " 'Pato',\n",
       " 'león',\n",
       " 'Panthera leo',\n",
       " 'caballo',\n",
       " 'Equus ferus caballus',\n",
       " 'tortugas',\n",
       " 'quelonios',\n",
       " 'Testudines',\n",
       " 'burro',\n",
       " 'asno',\n",
       " 'jumento',\n",
       " 'borrico',\n",
       " 'pollino',\n",
       " 'Equus africanus asinus',\n",
       " 'tigre',\n",
       " 'Panthera tigris',\n",
       " 'vaca',\n",
       " 'toro',\n",
       " 'Bos primigenius taurus']"
      ]
     },
     "execution_count": 20,
     "metadata": {},
     "output_type": "execute_result"
    }
   ],
   "source": [
    "lista"
   ]
  },
  {
   "cell_type": "code",
   "execution_count": 21,
   "metadata": {},
   "outputs": [
    {
     "data": {
      "text/plain": [
       "'gato doméstico Felis silvestris catus gato minino michino michi micho mizo miz morroño morrongo perro Canis familiaris Canis lupus familiaris perro doméstico can chucho tuso choco selaquimorfos selacimorfos Selachimorpha tiburones escualos jaquetones fócidos focas verdaderas Phocidae Pato león Panthera leo caballo Equus ferus caballus tortugas quelonios Testudines burro asno jumento borrico pollino Equus africanus asinus tigre Panthera tigris vaca toro Bos primigenius taurus'"
      ]
     },
     "execution_count": 21,
     "metadata": {},
     "output_type": "execute_result"
    }
   ],
   "source": [
    "import re\n",
    "cadena = \" \".join(lista)\n",
    "\n",
    "cadena"
   ]
  },
  {
   "cell_type": "code",
   "execution_count": 22,
   "metadata": {},
   "outputs": [
    {
     "data": {
      "text/plain": [
       "'gato dom*stico Felis silvestris catus gato minino michino michi micho mizo miz morroño morrongo perro Canis familiaris Canis lupus familiaris perro dom*stico can chucho tuso choco selaquimorfos selacimorfos Selachimorpha tiburones escualos jaquetones f*cidos focas verdaderas Phocidae Pato le*n Panthera leo caballo Equus ferus caballus tortugas quelonios Testudines burro asno jumento borrico pollino Equus africanus asinus tigre Panthera tigris vaca toro Bos primigenius taurus'"
      ]
     },
     "execution_count": 22,
     "metadata": {},
     "output_type": "execute_result"
    }
   ],
   "source": [
    "re.sub(r\"[äÄëËïÏöÖüÜáéíóúáéíóúÁÉÍÓÚÂÊÎÔÛâêîôûàèìòùÀÈÌÒÙ]\", \"*\", cadena)"
   ]
  }
 ],
 "metadata": {
  "kernelspec": {
   "display_name": "Python 3",
   "language": "python",
   "name": "python3"
  },
  "language_info": {
   "codemirror_mode": {
    "name": "ipython",
    "version": 3
   },
   "file_extension": ".py",
   "mimetype": "text/x-python",
   "name": "python",
   "nbconvert_exporter": "python",
   "pygments_lexer": "ipython3",
   "version": "3.8.3"
  }
 },
 "nbformat": 4,
 "nbformat_minor": 4
}

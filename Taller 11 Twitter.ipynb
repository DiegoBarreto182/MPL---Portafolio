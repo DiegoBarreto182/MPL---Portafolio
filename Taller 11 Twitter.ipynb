{
 "cells": [
  {
   "cell_type": "code",
   "execution_count": 1,
   "metadata": {},
   "outputs": [
    {
     "data": {
      "text/plain": [
       "dict_keys(['api_key', 'api_secret_key', 'access_token', 'access_token_secret', 'bearer_token'])"
      ]
     },
     "execution_count": 1,
     "metadata": {},
     "output_type": "execute_result"
    }
   ],
   "source": [
    "import pandas as pd\n",
    "import tweepy\n",
    "\n",
    "# Leer las llaves\n",
    "keys = pd.read_csv(\"mis_llaves.csv\", header=None)\n",
    "keys = dict(zip(keys[0],keys[1]))\n",
    "keys.keys()"
   ]
  },
  {
   "cell_type": "code",
   "execution_count": 2,
   "metadata": {},
   "outputs": [],
   "source": [
    "# Autenticar a través de la API \n",
    "auth = tweepy.OAuthHandler(keys['api_key'], keys['api_secret_key'])\n",
    "auth.set_access_token(keys['access_token'], keys['access_token_secret'])\n",
    "api = tweepy.API(auth, wait_on_rate_limit=True)"
   ]
  },
  {
   "cell_type": "code",
   "execution_count": 18,
   "metadata": {},
   "outputs": [],
   "source": [
    "tweets = tweepy.Cursor(api.search,\n",
    "                       q=['atletico nacional -RT'],\n",
    "                       lang='es',\n",
    "                       geocode='3.42158,-76.5205,1000km',\n",
    "                       tweet_mode='extended',\n",
    "                       include_rts=False,\n",
    "                       ).items(100)"
   ]
  },
  {
   "cell_type": "code",
   "execution_count": 19,
   "metadata": {},
   "outputs": [],
   "source": [
    "t = [tweet for tweet in tweets]"
   ]
  },
  {
   "cell_type": "code",
   "execution_count": 20,
   "metadata": {},
   "outputs": [
    {
     "data": {
      "text/plain": [
       "datetime.datetime(2021, 5, 20, 18, 41, 37)"
      ]
     },
     "execution_count": 20,
     "metadata": {},
     "output_type": "execute_result"
    }
   ],
   "source": [
    "t[0].created_at"
   ]
  },
  {
   "cell_type": "code",
   "execution_count": 21,
   "metadata": {},
   "outputs": [
    {
     "data": {
      "text/plain": [
       "'Medellín, Colombia'"
      ]
     },
     "execution_count": 21,
     "metadata": {},
     "output_type": "execute_result"
    }
   ],
   "source": [
    "t[0].user.location"
   ]
  },
  {
   "cell_type": "code",
   "execution_count": 23,
   "metadata": {},
   "outputs": [
    {
     "data": {
      "text/plain": [
       "'🏆 COPA CONMEBOL LIBERTADORES\\n🗓️ Jueves 20/05/2021\\n\\n⌚19:00 - Argentinos vs Atlético Nacional\\n⌚21:00 - Boca vs Barcelona\\n⌚21:00 - Olimpia vs Internacional\\n\\n#Libertadores #CopaLibertadores'"
      ]
     },
     "execution_count": 23,
     "metadata": {},
     "output_type": "execute_result"
    }
   ],
   "source": [
    "t[50].full_text"
   ]
  },
  {
   "cell_type": "code",
   "execution_count": 24,
   "metadata": {},
   "outputs": [
    {
     "data": {
      "text/html": [
       "<div>\n",
       "<style scoped>\n",
       "    .dataframe tbody tr th:only-of-type {\n",
       "        vertical-align: middle;\n",
       "    }\n",
       "\n",
       "    .dataframe tbody tr th {\n",
       "        vertical-align: top;\n",
       "    }\n",
       "\n",
       "    .dataframe thead th {\n",
       "        text-align: right;\n",
       "    }\n",
       "</style>\n",
       "<table border=\"1\" class=\"dataframe\">\n",
       "  <thead>\n",
       "    <tr style=\"text-align: right;\">\n",
       "      <th></th>\n",
       "      <th>tweets</th>\n",
       "      <th>date</th>\n",
       "      <th>city</th>\n",
       "      <th>user_location</th>\n",
       "      <th>id</th>\n",
       "      <th>link</th>\n",
       "    </tr>\n",
       "  </thead>\n",
       "  <tbody>\n",
       "    <tr>\n",
       "      <th>0</th>\n",
       "      <td>Ahora bien, según los jugadores que convocó el...</td>\n",
       "      <td>2021-05-20 18:41:37</td>\n",
       "      <td>Medellín</td>\n",
       "      <td>Medellín, Colombia</td>\n",
       "      <td>1395449652376489984</td>\n",
       "      <td>https://twitter.com/i/web/stuatus/139544965237...</td>\n",
       "    </tr>\n",
       "    <tr>\n",
       "      <th>1</th>\n",
       "      <td>EN VIVO: Argentinos Juniors Vs. Atlético Nacio...</td>\n",
       "      <td>2021-05-20 18:21:12</td>\n",
       "      <td>Medellín</td>\n",
       "      <td>Bogotá, Colombia</td>\n",
       "      <td>1395444512554508288</td>\n",
       "      <td>https://twitter.com/i/web/stuatus/139544451255...</td>\n",
       "    </tr>\n",
       "    <tr>\n",
       "      <th>2</th>\n",
       "      <td>@Alfredo87340960 Harían tiene buenos números, ...</td>\n",
       "      <td>2021-05-20 18:07:52</td>\n",
       "      <td>Medellín</td>\n",
       "      <td>Valledupar, Colombia</td>\n",
       "      <td>1395441155156889601</td>\n",
       "      <td>https://twitter.com/i/web/stuatus/139544115515...</td>\n",
       "    </tr>\n",
       "    <tr>\n",
       "      <th>3</th>\n",
       "      <td>Copa Libertadores | Argentinos Juniors vs. Atl...</td>\n",
       "      <td>2021-05-20 18:04:46</td>\n",
       "      <td>Medellín</td>\n",
       "      <td>Colombia</td>\n",
       "      <td>1395440377319104516</td>\n",
       "      <td>https://twitter.com/i/web/stuatus/139544037731...</td>\n",
       "    </tr>\n",
       "    <tr>\n",
       "      <th>4</th>\n",
       "      <td>Atlético Nacional, análisis del rival: Argenti...</td>\n",
       "      <td>2021-05-20 17:27:17</td>\n",
       "      <td>Medellín</td>\n",
       "      <td>Colombia</td>\n",
       "      <td>1395430941737328640</td>\n",
       "      <td>https://twitter.com/i/web/stuatus/139543094173...</td>\n",
       "    </tr>\n",
       "  </tbody>\n",
       "</table>\n",
       "</div>"
      ],
      "text/plain": [
       "                                              tweets                date  \\\n",
       "0  Ahora bien, según los jugadores que convocó el... 2021-05-20 18:41:37   \n",
       "1  EN VIVO: Argentinos Juniors Vs. Atlético Nacio... 2021-05-20 18:21:12   \n",
       "2  @Alfredo87340960 Harían tiene buenos números, ... 2021-05-20 18:07:52   \n",
       "3  Copa Libertadores | Argentinos Juniors vs. Atl... 2021-05-20 18:04:46   \n",
       "4  Atlético Nacional, análisis del rival: Argenti... 2021-05-20 17:27:17   \n",
       "\n",
       "       city         user_location                   id  \\\n",
       "0  Medellín    Medellín, Colombia  1395449652376489984   \n",
       "1  Medellín      Bogotá, Colombia  1395444512554508288   \n",
       "2  Medellín  Valledupar, Colombia  1395441155156889601   \n",
       "3  Medellín              Colombia  1395440377319104516   \n",
       "4  Medellín              Colombia  1395430941737328640   \n",
       "\n",
       "                                                link  \n",
       "0  https://twitter.com/i/web/stuatus/139544965237...  \n",
       "1  https://twitter.com/i/web/stuatus/139544451255...  \n",
       "2  https://twitter.com/i/web/stuatus/139544115515...  \n",
       "3  https://twitter.com/i/web/stuatus/139544037731...  \n",
       "4  https://twitter.com/i/web/stuatus/139543094173...  "
      ]
     },
     "execution_count": 24,
     "metadata": {},
     "output_type": "execute_result"
    }
   ],
   "source": [
    "t_processed = []\n",
    "\n",
    "for tweet in t: \n",
    "    temp = []\n",
    "    temp.append(tweet.full_text)\n",
    "    temp.append(tweet.created_at)\n",
    "    temp.append('Medellín')\n",
    "    temp.append(tweet.user.location)\n",
    "    temp.append(tweet.id)\n",
    "    temp.append(f\"https://twitter.com/i/web/stuatus/{tweet.id}\")\n",
    "    \n",
    "    t_processed.append(temp)\n",
    "    \n",
    "    \n",
    "data = pd.DataFrame(t_processed)\n",
    "data.columns = ['tweets', 'date', 'city', 'user_location', 'id', 'link']\n",
    "data.head()"
   ]
  },
  {
   "cell_type": "code",
   "execution_count": 25,
   "metadata": {},
   "outputs": [],
   "source": [
    "data.to_csv('archivotwitter.csv', index=False)"
   ]
  },
  {
   "cell_type": "code",
   "execution_count": 27,
   "metadata": {},
   "outputs": [
    {
     "data": {
      "text/html": [
       "<div>\n",
       "<style scoped>\n",
       "    .dataframe tbody tr th:only-of-type {\n",
       "        vertical-align: middle;\n",
       "    }\n",
       "\n",
       "    .dataframe tbody tr th {\n",
       "        vertical-align: top;\n",
       "    }\n",
       "\n",
       "    .dataframe thead th {\n",
       "        text-align: right;\n",
       "    }\n",
       "</style>\n",
       "<table border=\"1\" class=\"dataframe\">\n",
       "  <thead>\n",
       "    <tr style=\"text-align: right;\">\n",
       "      <th></th>\n",
       "      <th>tweets</th>\n",
       "      <th>date</th>\n",
       "      <th>city</th>\n",
       "      <th>user_location</th>\n",
       "      <th>id</th>\n",
       "      <th>link</th>\n",
       "      <th>texto_limpio</th>\n",
       "      <th>links</th>\n",
       "      <th>hashtags</th>\n",
       "      <th>mentions</th>\n",
       "    </tr>\n",
       "  </thead>\n",
       "  <tbody>\n",
       "    <tr>\n",
       "      <th>0</th>\n",
       "      <td>Ahora bien, según los jugadores que convocó el...</td>\n",
       "      <td>2021-05-20 18:41:37</td>\n",
       "      <td>Medellín</td>\n",
       "      <td>Medellín, Colombia</td>\n",
       "      <td>1395449652376489984</td>\n",
       "      <td>https://twitter.com/i/web/stuatus/139544965237...</td>\n",
       "      <td>Ahora bien, según los jugadores que convocó el...</td>\n",
       "      <td>[]</td>\n",
       "      <td>[#MiOnceEnVavelNacional]</td>\n",
       "      <td>[]</td>\n",
       "    </tr>\n",
       "    <tr>\n",
       "      <th>1</th>\n",
       "      <td>EN VIVO: Argentinos Juniors Vs. Atlético Nacio...</td>\n",
       "      <td>2021-05-20 18:21:12</td>\n",
       "      <td>Medellín</td>\n",
       "      <td>Bogotá, Colombia</td>\n",
       "      <td>1395444512554508288</td>\n",
       "      <td>https://twitter.com/i/web/stuatus/139544451255...</td>\n",
       "      <td>EN VIVO: Argentinos Juniors Vs. Atlético Nacio...</td>\n",
       "      <td>[https://t.co/5KT3d8OXTx, https://t.co/lWSR8L9...</td>\n",
       "      <td>[]</td>\n",
       "      <td>[]</td>\n",
       "    </tr>\n",
       "    <tr>\n",
       "      <th>2</th>\n",
       "      <td>@Alfredo87340960 Harían tiene buenos números, ...</td>\n",
       "      <td>2021-05-20 18:07:52</td>\n",
       "      <td>Medellín</td>\n",
       "      <td>Valledupar, Colombia</td>\n",
       "      <td>1395441155156889601</td>\n",
       "      <td>https://twitter.com/i/web/stuatus/139544115515...</td>\n",
       "      <td>Harían tiene buenos números, es el 3er mejor ...</td>\n",
       "      <td>[]</td>\n",
       "      <td>[]</td>\n",
       "      <td>[@Alfredo87340960]</td>\n",
       "    </tr>\n",
       "    <tr>\n",
       "      <th>3</th>\n",
       "      <td>Copa Libertadores | Argentinos Juniors vs. Atl...</td>\n",
       "      <td>2021-05-20 18:04:46</td>\n",
       "      <td>Medellín</td>\n",
       "      <td>Colombia</td>\n",
       "      <td>1395440377319104516</td>\n",
       "      <td>https://twitter.com/i/web/stuatus/139544037731...</td>\n",
       "      <td>Copa Libertadores | Argentinos Juniors vs. Atl...</td>\n",
       "      <td>[https://t.co/9gMZkjnRbT]</td>\n",
       "      <td>[]</td>\n",
       "      <td>[]</td>\n",
       "    </tr>\n",
       "    <tr>\n",
       "      <th>4</th>\n",
       "      <td>Atlético Nacional, análisis del rival: Argenti...</td>\n",
       "      <td>2021-05-20 17:27:17</td>\n",
       "      <td>Medellín</td>\n",
       "      <td>Colombia</td>\n",
       "      <td>1395430941737328640</td>\n",
       "      <td>https://twitter.com/i/web/stuatus/139543094173...</td>\n",
       "      <td>Atlético Nacional, análisis del rival: Argenti...</td>\n",
       "      <td>[https://t.co/wToXMFMcLu, https://t.co/7D4BHrj...</td>\n",
       "      <td>[]</td>\n",
       "      <td>[]</td>\n",
       "    </tr>\n",
       "    <tr>\n",
       "      <th>...</th>\n",
       "      <td>...</td>\n",
       "      <td>...</td>\n",
       "      <td>...</td>\n",
       "      <td>...</td>\n",
       "      <td>...</td>\n",
       "      <td>...</td>\n",
       "      <td>...</td>\n",
       "      <td>...</td>\n",
       "      <td>...</td>\n",
       "      <td>...</td>\n",
       "    </tr>\n",
       "    <tr>\n",
       "      <th>95</th>\n",
       "      <td>¿ATLÉTICO NACIONAL ES LA BASE DE LA SELECCIÓN ...</td>\n",
       "      <td>2021-05-20 01:14:27</td>\n",
       "      <td>Medellín</td>\n",
       "      <td>Medellín, Antioquia</td>\n",
       "      <td>1395186121584398339</td>\n",
       "      <td>https://twitter.com/i/web/stuatus/139518612158...</td>\n",
       "      <td>¿ATLÉTICO NACIONAL ES LA BASE DE LA SELECCIÓN ...</td>\n",
       "      <td>[https://t.co/QzlrbgOdHz]</td>\n",
       "      <td>[#10SportsCo]</td>\n",
       "      <td>[]</td>\n",
       "    </tr>\n",
       "    <tr>\n",
       "      <th>96</th>\n",
       "      <td>@___valeenn @IbaiLlanos Pero si hoy x hoy atle...</td>\n",
       "      <td>2021-05-20 01:13:55</td>\n",
       "      <td>Medellín</td>\n",
       "      <td>Bogotá, D.C., Colombia</td>\n",
       "      <td>1395185986548772865</td>\n",
       "      <td>https://twitter.com/i/web/stuatus/139518598654...</td>\n",
       "      <td>Pero si hoy x hoy atletico nacional y junior...</td>\n",
       "      <td>[]</td>\n",
       "      <td>[]</td>\n",
       "      <td>[@___valeenn, @IbaiLlanos]</td>\n",
       "    </tr>\n",
       "    <tr>\n",
       "      <th>97</th>\n",
       "      <td>@___valeenn @IbaiLlanos Atlético Nacional, Jun...</td>\n",
       "      <td>2021-05-20 01:13:17</td>\n",
       "      <td>Medellín</td>\n",
       "      <td>Bogotá, D.C., Colombia</td>\n",
       "      <td>1395185827186192391</td>\n",
       "      <td>https://twitter.com/i/web/stuatus/139518582718...</td>\n",
       "      <td>Atlético Nacional, Junior De Barranquilla, A...</td>\n",
       "      <td>[]</td>\n",
       "      <td>[]</td>\n",
       "      <td>[@___valeenn, @IbaiLlanos]</td>\n",
       "    </tr>\n",
       "    <tr>\n",
       "      <th>98</th>\n",
       "      <td>DE LA MANO DE RUEDA Y LOS VERDOLAGAS RUMBO A Q...</td>\n",
       "      <td>2021-05-20 01:11:34</td>\n",
       "      <td>Medellín</td>\n",
       "      <td>Medellín</td>\n",
       "      <td>1395185397102166016</td>\n",
       "      <td>https://twitter.com/i/web/stuatus/139518539710...</td>\n",
       "      <td>DE LA MANO DE RUEDA Y LOS VERDOLAGAS RUMBO A Q...</td>\n",
       "      <td>[https://t.co/vVZejbgS7d]</td>\n",
       "      <td>[]</td>\n",
       "      <td>[]</td>\n",
       "    </tr>\n",
       "    <tr>\n",
       "      <th>99</th>\n",
       "      <td>@WinSportsTV Puedo ver Libertad- Atlético Naci...</td>\n",
       "      <td>2021-05-20 01:10:53</td>\n",
       "      <td>Medellín</td>\n",
       "      <td>Bogotá, D.C., Colombia</td>\n",
       "      <td>1395185225618141184</td>\n",
       "      <td>https://twitter.com/i/web/stuatus/139518522561...</td>\n",
       "      <td>Puedo ver Libertad- Atlético Nacional en octa...</td>\n",
       "      <td>[]</td>\n",
       "      <td>[]</td>\n",
       "      <td>[@WinSportsTV]</td>\n",
       "    </tr>\n",
       "  </tbody>\n",
       "</table>\n",
       "<p>100 rows × 10 columns</p>\n",
       "</div>"
      ],
      "text/plain": [
       "                                               tweets                date  \\\n",
       "0   Ahora bien, según los jugadores que convocó el... 2021-05-20 18:41:37   \n",
       "1   EN VIVO: Argentinos Juniors Vs. Atlético Nacio... 2021-05-20 18:21:12   \n",
       "2   @Alfredo87340960 Harían tiene buenos números, ... 2021-05-20 18:07:52   \n",
       "3   Copa Libertadores | Argentinos Juniors vs. Atl... 2021-05-20 18:04:46   \n",
       "4   Atlético Nacional, análisis del rival: Argenti... 2021-05-20 17:27:17   \n",
       "..                                                ...                 ...   \n",
       "95  ¿ATLÉTICO NACIONAL ES LA BASE DE LA SELECCIÓN ... 2021-05-20 01:14:27   \n",
       "96  @___valeenn @IbaiLlanos Pero si hoy x hoy atle... 2021-05-20 01:13:55   \n",
       "97  @___valeenn @IbaiLlanos Atlético Nacional, Jun... 2021-05-20 01:13:17   \n",
       "98  DE LA MANO DE RUEDA Y LOS VERDOLAGAS RUMBO A Q... 2021-05-20 01:11:34   \n",
       "99  @WinSportsTV Puedo ver Libertad- Atlético Naci... 2021-05-20 01:10:53   \n",
       "\n",
       "        city           user_location                   id  \\\n",
       "0   Medellín      Medellín, Colombia  1395449652376489984   \n",
       "1   Medellín        Bogotá, Colombia  1395444512554508288   \n",
       "2   Medellín    Valledupar, Colombia  1395441155156889601   \n",
       "3   Medellín                Colombia  1395440377319104516   \n",
       "4   Medellín                Colombia  1395430941737328640   \n",
       "..       ...                     ...                  ...   \n",
       "95  Medellín     Medellín, Antioquia  1395186121584398339   \n",
       "96  Medellín  Bogotá, D.C., Colombia  1395185986548772865   \n",
       "97  Medellín  Bogotá, D.C., Colombia  1395185827186192391   \n",
       "98  Medellín                Medellín  1395185397102166016   \n",
       "99  Medellín  Bogotá, D.C., Colombia  1395185225618141184   \n",
       "\n",
       "                                                 link  \\\n",
       "0   https://twitter.com/i/web/stuatus/139544965237...   \n",
       "1   https://twitter.com/i/web/stuatus/139544451255...   \n",
       "2   https://twitter.com/i/web/stuatus/139544115515...   \n",
       "3   https://twitter.com/i/web/stuatus/139544037731...   \n",
       "4   https://twitter.com/i/web/stuatus/139543094173...   \n",
       "..                                                ...   \n",
       "95  https://twitter.com/i/web/stuatus/139518612158...   \n",
       "96  https://twitter.com/i/web/stuatus/139518598654...   \n",
       "97  https://twitter.com/i/web/stuatus/139518582718...   \n",
       "98  https://twitter.com/i/web/stuatus/139518539710...   \n",
       "99  https://twitter.com/i/web/stuatus/139518522561...   \n",
       "\n",
       "                                         texto_limpio  \\\n",
       "0   Ahora bien, según los jugadores que convocó el...   \n",
       "1   EN VIVO: Argentinos Juniors Vs. Atlético Nacio...   \n",
       "2    Harían tiene buenos números, es el 3er mejor ...   \n",
       "3   Copa Libertadores | Argentinos Juniors vs. Atl...   \n",
       "4   Atlético Nacional, análisis del rival: Argenti...   \n",
       "..                                                ...   \n",
       "95  ¿ATLÉTICO NACIONAL ES LA BASE DE LA SELECCIÓN ...   \n",
       "96    Pero si hoy x hoy atletico nacional y junior...   \n",
       "97    Atlético Nacional, Junior De Barranquilla, A...   \n",
       "98  DE LA MANO DE RUEDA Y LOS VERDOLAGAS RUMBO A Q...   \n",
       "99   Puedo ver Libertad- Atlético Nacional en octa...   \n",
       "\n",
       "                                                links  \\\n",
       "0                                                  []   \n",
       "1   [https://t.co/5KT3d8OXTx, https://t.co/lWSR8L9...   \n",
       "2                                                  []   \n",
       "3                           [https://t.co/9gMZkjnRbT]   \n",
       "4   [https://t.co/wToXMFMcLu, https://t.co/7D4BHrj...   \n",
       "..                                                ...   \n",
       "95                          [https://t.co/QzlrbgOdHz]   \n",
       "96                                                 []   \n",
       "97                                                 []   \n",
       "98                          [https://t.co/vVZejbgS7d]   \n",
       "99                                                 []   \n",
       "\n",
       "                    hashtags                    mentions  \n",
       "0   [#MiOnceEnVavelNacional]                          []  \n",
       "1                         []                          []  \n",
       "2                         []          [@Alfredo87340960]  \n",
       "3                         []                          []  \n",
       "4                         []                          []  \n",
       "..                       ...                         ...  \n",
       "95             [#10SportsCo]                          []  \n",
       "96                        []  [@___valeenn, @IbaiLlanos]  \n",
       "97                        []  [@___valeenn, @IbaiLlanos]  \n",
       "98                        []                          []  \n",
       "99                        []              [@WinSportsTV]  \n",
       "\n",
       "[100 rows x 10 columns]"
      ]
     },
     "execution_count": 27,
     "metadata": {},
     "output_type": "execute_result"
    }
   ],
   "source": [
    "import re\n",
    "\n",
    "pattern1 = '?P<pic>pic.twitter.com/[^\\s]+'\n",
    "pattern2 = '?P<url>https?://[^\\s]+'\n",
    "\n",
    "def text_clean(row):\n",
    "    text = row['tweets']\n",
    "    \n",
    "    links = [tuple(j for j in i if j)[-1] for i in re.findall(f\"({pattern1})|({pattern2})\",text)]\n",
    "    for link in links:\n",
    "        text = text.replace(link,\"\")\n",
    "    \n",
    "    hashtags = [interaction for interaction in text.split() if interaction.startswith(\"#\")]\n",
    "    for hashtag in hashtags:\n",
    "        text = text.replace(hashtag, \"\")\n",
    "        \n",
    "    mentions = [interaction for interaction in text.split() if interaction.startswith(\"@\")]\n",
    "    for mention in mentions:\n",
    "        text = text.replace(mention, \"\")\n",
    "        \n",
    "    return text, links, hashtags, mentions\n",
    "  \n",
    "  \n",
    "data[['texto_limpio', 'links', 'hashtags', 'mentions']] = data.apply(text_clean, axis=1, result_type='expand')\n",
    "data"
   ]
  },
  {
   "cell_type": "code",
   "execution_count": null,
   "metadata": {},
   "outputs": [],
   "source": [
    "PUNTO 2 "
   ]
  },
  {
   "cell_type": "code",
   "execution_count": 28,
   "metadata": {},
   "outputs": [],
   "source": [
    "import regex\n",
    "import emoji\n",
    "\n",
    "def get_emojis(text):\n",
    "    emoji_list = []\n",
    "    data = regex.findall(r'\\X', text)\n",
    "    for word in data:\n",
    "        if any(char in emoji.UNICODE_EMOJI['en'] for char in word):\n",
    "            emoji_list.append(word)\n",
    "\n",
    "    return emoji_list"
   ]
  },
  {
   "cell_type": "code",
   "execution_count": 30,
   "metadata": {},
   "outputs": [
    {
     "data": {
      "text/html": [
       "<div>\n",
       "<style scoped>\n",
       "    .dataframe tbody tr th:only-of-type {\n",
       "        vertical-align: middle;\n",
       "    }\n",
       "\n",
       "    .dataframe tbody tr th {\n",
       "        vertical-align: top;\n",
       "    }\n",
       "\n",
       "    .dataframe thead th {\n",
       "        text-align: right;\n",
       "    }\n",
       "</style>\n",
       "<table border=\"1\" class=\"dataframe\">\n",
       "  <thead>\n",
       "    <tr style=\"text-align: right;\">\n",
       "      <th></th>\n",
       "      <th>tweets</th>\n",
       "      <th>date</th>\n",
       "      <th>city</th>\n",
       "      <th>user_location</th>\n",
       "      <th>id</th>\n",
       "      <th>link</th>\n",
       "      <th>texto_limpio</th>\n",
       "      <th>links</th>\n",
       "      <th>hashtags</th>\n",
       "      <th>mentions</th>\n",
       "      <th>emojis</th>\n",
       "    </tr>\n",
       "  </thead>\n",
       "  <tbody>\n",
       "    <tr>\n",
       "      <th>0</th>\n",
       "      <td>Ahora bien, según los jugadores que convocó el...</td>\n",
       "      <td>2021-05-20 18:41:37</td>\n",
       "      <td>Medellín</td>\n",
       "      <td>Medellín, Colombia</td>\n",
       "      <td>1395449652376489984</td>\n",
       "      <td>https://twitter.com/i/web/stuatus/139544965237...</td>\n",
       "      <td>Ahora bien, según los jugadores que convocó el...</td>\n",
       "      <td>[]</td>\n",
       "      <td>[#MiOnceEnVavelNacional]</td>\n",
       "      <td>[]</td>\n",
       "      <td>[🤔, 💚]</td>\n",
       "    </tr>\n",
       "    <tr>\n",
       "      <th>1</th>\n",
       "      <td>EN VIVO: Argentinos Juniors Vs. Atlético Nacio...</td>\n",
       "      <td>2021-05-20 18:21:12</td>\n",
       "      <td>Medellín</td>\n",
       "      <td>Bogotá, Colombia</td>\n",
       "      <td>1395444512554508288</td>\n",
       "      <td>https://twitter.com/i/web/stuatus/139544451255...</td>\n",
       "      <td>EN VIVO: Argentinos Juniors Vs. Atlético Nacio...</td>\n",
       "      <td>[https://t.co/5KT3d8OXTx, https://t.co/lWSR8L9...</td>\n",
       "      <td>[]</td>\n",
       "      <td>[]</td>\n",
       "      <td>[]</td>\n",
       "    </tr>\n",
       "    <tr>\n",
       "      <th>2</th>\n",
       "      <td>@Alfredo87340960 Harían tiene buenos números, ...</td>\n",
       "      <td>2021-05-20 18:07:52</td>\n",
       "      <td>Medellín</td>\n",
       "      <td>Valledupar, Colombia</td>\n",
       "      <td>1395441155156889601</td>\n",
       "      <td>https://twitter.com/i/web/stuatus/139544115515...</td>\n",
       "      <td>Harían tiene buenos números, es el 3er mejor ...</td>\n",
       "      <td>[]</td>\n",
       "      <td>[]</td>\n",
       "      <td>[@Alfredo87340960]</td>\n",
       "      <td>[]</td>\n",
       "    </tr>\n",
       "    <tr>\n",
       "      <th>3</th>\n",
       "      <td>Copa Libertadores | Argentinos Juniors vs. Atl...</td>\n",
       "      <td>2021-05-20 18:04:46</td>\n",
       "      <td>Medellín</td>\n",
       "      <td>Colombia</td>\n",
       "      <td>1395440377319104516</td>\n",
       "      <td>https://twitter.com/i/web/stuatus/139544037731...</td>\n",
       "      <td>Copa Libertadores | Argentinos Juniors vs. Atl...</td>\n",
       "      <td>[https://t.co/9gMZkjnRbT]</td>\n",
       "      <td>[]</td>\n",
       "      <td>[]</td>\n",
       "      <td>[]</td>\n",
       "    </tr>\n",
       "    <tr>\n",
       "      <th>4</th>\n",
       "      <td>Atlético Nacional, análisis del rival: Argenti...</td>\n",
       "      <td>2021-05-20 17:27:17</td>\n",
       "      <td>Medellín</td>\n",
       "      <td>Colombia</td>\n",
       "      <td>1395430941737328640</td>\n",
       "      <td>https://twitter.com/i/web/stuatus/139543094173...</td>\n",
       "      <td>Atlético Nacional, análisis del rival: Argenti...</td>\n",
       "      <td>[https://t.co/wToXMFMcLu, https://t.co/7D4BHrj...</td>\n",
       "      <td>[]</td>\n",
       "      <td>[]</td>\n",
       "      <td>[]</td>\n",
       "    </tr>\n",
       "  </tbody>\n",
       "</table>\n",
       "</div>"
      ],
      "text/plain": [
       "                                              tweets                date  \\\n",
       "0  Ahora bien, según los jugadores que convocó el... 2021-05-20 18:41:37   \n",
       "1  EN VIVO: Argentinos Juniors Vs. Atlético Nacio... 2021-05-20 18:21:12   \n",
       "2  @Alfredo87340960 Harían tiene buenos números, ... 2021-05-20 18:07:52   \n",
       "3  Copa Libertadores | Argentinos Juniors vs. Atl... 2021-05-20 18:04:46   \n",
       "4  Atlético Nacional, análisis del rival: Argenti... 2021-05-20 17:27:17   \n",
       "\n",
       "       city         user_location                   id  \\\n",
       "0  Medellín    Medellín, Colombia  1395449652376489984   \n",
       "1  Medellín      Bogotá, Colombia  1395444512554508288   \n",
       "2  Medellín  Valledupar, Colombia  1395441155156889601   \n",
       "3  Medellín              Colombia  1395440377319104516   \n",
       "4  Medellín              Colombia  1395430941737328640   \n",
       "\n",
       "                                                link  \\\n",
       "0  https://twitter.com/i/web/stuatus/139544965237...   \n",
       "1  https://twitter.com/i/web/stuatus/139544451255...   \n",
       "2  https://twitter.com/i/web/stuatus/139544115515...   \n",
       "3  https://twitter.com/i/web/stuatus/139544037731...   \n",
       "4  https://twitter.com/i/web/stuatus/139543094173...   \n",
       "\n",
       "                                        texto_limpio  \\\n",
       "0  Ahora bien, según los jugadores que convocó el...   \n",
       "1  EN VIVO: Argentinos Juniors Vs. Atlético Nacio...   \n",
       "2   Harían tiene buenos números, es el 3er mejor ...   \n",
       "3  Copa Libertadores | Argentinos Juniors vs. Atl...   \n",
       "4  Atlético Nacional, análisis del rival: Argenti...   \n",
       "\n",
       "                                               links  \\\n",
       "0                                                 []   \n",
       "1  [https://t.co/5KT3d8OXTx, https://t.co/lWSR8L9...   \n",
       "2                                                 []   \n",
       "3                          [https://t.co/9gMZkjnRbT]   \n",
       "4  [https://t.co/wToXMFMcLu, https://t.co/7D4BHrj...   \n",
       "\n",
       "                   hashtags            mentions  emojis  \n",
       "0  [#MiOnceEnVavelNacional]                  []  [🤔, 💚]  \n",
       "1                        []                  []      []  \n",
       "2                        []  [@Alfredo87340960]      []  \n",
       "3                        []                  []      []  \n",
       "4                        []                  []      []  "
      ]
     },
     "execution_count": 30,
     "metadata": {},
     "output_type": "execute_result"
    }
   ],
   "source": [
    "data['emojis'] = data['texto_limpio'].apply(lambda text: get_emojis(text))\n",
    "data.head()"
   ]
  },
  {
   "cell_type": "code",
   "execution_count": 31,
   "metadata": {},
   "outputs": [
    {
     "data": {
      "text/html": [
       "        <script type=\"text/javascript\">\n",
       "        window.PlotlyConfig = {MathJaxConfig: 'local'};\n",
       "        if (window.MathJax) {MathJax.Hub.Config({SVG: {font: \"STIX-Web\"}});}\n",
       "        if (typeof require !== 'undefined') {\n",
       "        require.undef(\"plotly\");\n",
       "        requirejs.config({\n",
       "            paths: {\n",
       "                'plotly': ['https://cdn.plot.ly/plotly-latest.min']\n",
       "            }\n",
       "        });\n",
       "        require(['plotly'], function(Plotly) {\n",
       "            window._Plotly = Plotly;\n",
       "        });\n",
       "        }\n",
       "        </script>\n",
       "        "
      ]
     },
     "metadata": {},
     "output_type": "display_data"
    }
   ],
   "source": [
    "import plotly.io as pio\n",
    "import plotly.express as px\n",
    "import plotly.graph_objs as go\n",
    "from plotly.offline import download_plotlyjs, init_notebook_mode, plot, iplot\n",
    "\n",
    "\n",
    "import matplotlib.pyplot as plt\n",
    "%matplotlib inline\n",
    "init_notebook_mode(connected=True)"
   ]
  },
  {
   "cell_type": "code",
   "execution_count": 32,
   "metadata": {},
   "outputs": [
    {
     "data": {
      "text/html": [
       "<div>\n",
       "<style scoped>\n",
       "    .dataframe tbody tr th:only-of-type {\n",
       "        vertical-align: middle;\n",
       "    }\n",
       "\n",
       "    .dataframe tbody tr th {\n",
       "        vertical-align: top;\n",
       "    }\n",
       "\n",
       "    .dataframe thead th {\n",
       "        text-align: right;\n",
       "    }\n",
       "</style>\n",
       "<table border=\"1\" class=\"dataframe\">\n",
       "  <thead>\n",
       "    <tr style=\"text-align: right;\">\n",
       "      <th></th>\n",
       "      <th>emoji</th>\n",
       "      <th>cnt</th>\n",
       "    </tr>\n",
       "  </thead>\n",
       "  <tbody>\n",
       "    <tr>\n",
       "      <th>16</th>\n",
       "      <td>⭐</td>\n",
       "      <td>6</td>\n",
       "    </tr>\n",
       "    <tr>\n",
       "      <th>3</th>\n",
       "      <td>⚽</td>\n",
       "      <td>6</td>\n",
       "    </tr>\n",
       "    <tr>\n",
       "      <th>11</th>\n",
       "      <td>🏆</td>\n",
       "      <td>6</td>\n",
       "    </tr>\n",
       "    <tr>\n",
       "      <th>30</th>\n",
       "      <td>⌚</td>\n",
       "      <td>5</td>\n",
       "    </tr>\n",
       "    <tr>\n",
       "      <th>10</th>\n",
       "      <td>⬇️</td>\n",
       "      <td>4</td>\n",
       "    </tr>\n",
       "  </tbody>\n",
       "</table>\n",
       "</div>"
      ],
      "text/plain": [
       "   emoji  cnt\n",
       "16     ⭐    6\n",
       "3      ⚽    6\n",
       "11     🏆    6\n",
       "30     ⌚    5\n",
       "10    ⬇️    4"
      ]
     },
     "execution_count": 32,
     "metadata": {},
     "output_type": "execute_result"
    }
   ],
   "source": [
    "from collections import Counter\n",
    "\n",
    "temp_emojis = pd.DataFrame(list(zip(Counter(sum(data.emojis.values,[])).keys(),Counter(sum(data.emojis.values,[])).values())))\n",
    "temp_emojis.columns = ['emoji', 'cnt']\n",
    "temp_emojis.sort_values('cnt', ascending=False, inplace=True)\n",
    "temp_emojis.head()"
   ]
  },
  {
   "cell_type": "code",
   "execution_count": 36,
   "metadata": {
    "scrolled": true
   },
   "outputs": [
    {
     "data": {
      "application/vnd.plotly.v1+json": {
       "config": {
        "linkText": "Export to plot.ly",
        "plotlyServerURL": "https://plot.ly",
        "showLink": false
       },
       "data": [
        {
         "type": "bar",
         "x": [
          "⭐",
          "⚽",
          "🏆",
          "⌚",
          "⬇️",
          "🏟",
          "📺",
          "⚽️",
          "⚠️",
          "😡",
          "🤔",
          "➡️",
          "📻",
          "📅",
          "⏰",
          "💚",
          "🟡",
          "🏙",
          "🌆",
          "⛳",
          "🥇",
          "🥅",
          "🖥",
          "🎙",
          "🤍"
         ],
         "y": [
          6,
          6,
          6,
          5,
          4,
          4,
          4,
          4,
          3,
          3,
          3,
          3,
          2,
          2,
          2,
          2,
          1,
          1,
          1,
          1,
          1,
          1,
          1,
          1,
          1
         ]
        }
       ],
       "layout": {
        "template": {
         "data": {
          "bar": [
           {
            "error_x": {
             "color": "#2a3f5f"
            },
            "error_y": {
             "color": "#2a3f5f"
            },
            "marker": {
             "line": {
              "color": "#E5ECF6",
              "width": 0.5
             }
            },
            "type": "bar"
           }
          ],
          "barpolar": [
           {
            "marker": {
             "line": {
              "color": "#E5ECF6",
              "width": 0.5
             }
            },
            "type": "barpolar"
           }
          ],
          "carpet": [
           {
            "aaxis": {
             "endlinecolor": "#2a3f5f",
             "gridcolor": "white",
             "linecolor": "white",
             "minorgridcolor": "white",
             "startlinecolor": "#2a3f5f"
            },
            "baxis": {
             "endlinecolor": "#2a3f5f",
             "gridcolor": "white",
             "linecolor": "white",
             "minorgridcolor": "white",
             "startlinecolor": "#2a3f5f"
            },
            "type": "carpet"
           }
          ],
          "choropleth": [
           {
            "colorbar": {
             "outlinewidth": 0,
             "ticks": ""
            },
            "type": "choropleth"
           }
          ],
          "contour": [
           {
            "colorbar": {
             "outlinewidth": 0,
             "ticks": ""
            },
            "colorscale": [
             [
              0,
              "#0d0887"
             ],
             [
              0.1111111111111111,
              "#46039f"
             ],
             [
              0.2222222222222222,
              "#7201a8"
             ],
             [
              0.3333333333333333,
              "#9c179e"
             ],
             [
              0.4444444444444444,
              "#bd3786"
             ],
             [
              0.5555555555555556,
              "#d8576b"
             ],
             [
              0.6666666666666666,
              "#ed7953"
             ],
             [
              0.7777777777777778,
              "#fb9f3a"
             ],
             [
              0.8888888888888888,
              "#fdca26"
             ],
             [
              1,
              "#f0f921"
             ]
            ],
            "type": "contour"
           }
          ],
          "contourcarpet": [
           {
            "colorbar": {
             "outlinewidth": 0,
             "ticks": ""
            },
            "type": "contourcarpet"
           }
          ],
          "heatmap": [
           {
            "colorbar": {
             "outlinewidth": 0,
             "ticks": ""
            },
            "colorscale": [
             [
              0,
              "#0d0887"
             ],
             [
              0.1111111111111111,
              "#46039f"
             ],
             [
              0.2222222222222222,
              "#7201a8"
             ],
             [
              0.3333333333333333,
              "#9c179e"
             ],
             [
              0.4444444444444444,
              "#bd3786"
             ],
             [
              0.5555555555555556,
              "#d8576b"
             ],
             [
              0.6666666666666666,
              "#ed7953"
             ],
             [
              0.7777777777777778,
              "#fb9f3a"
             ],
             [
              0.8888888888888888,
              "#fdca26"
             ],
             [
              1,
              "#f0f921"
             ]
            ],
            "type": "heatmap"
           }
          ],
          "heatmapgl": [
           {
            "colorbar": {
             "outlinewidth": 0,
             "ticks": ""
            },
            "colorscale": [
             [
              0,
              "#0d0887"
             ],
             [
              0.1111111111111111,
              "#46039f"
             ],
             [
              0.2222222222222222,
              "#7201a8"
             ],
             [
              0.3333333333333333,
              "#9c179e"
             ],
             [
              0.4444444444444444,
              "#bd3786"
             ],
             [
              0.5555555555555556,
              "#d8576b"
             ],
             [
              0.6666666666666666,
              "#ed7953"
             ],
             [
              0.7777777777777778,
              "#fb9f3a"
             ],
             [
              0.8888888888888888,
              "#fdca26"
             ],
             [
              1,
              "#f0f921"
             ]
            ],
            "type": "heatmapgl"
           }
          ],
          "histogram": [
           {
            "marker": {
             "colorbar": {
              "outlinewidth": 0,
              "ticks": ""
             }
            },
            "type": "histogram"
           }
          ],
          "histogram2d": [
           {
            "colorbar": {
             "outlinewidth": 0,
             "ticks": ""
            },
            "colorscale": [
             [
              0,
              "#0d0887"
             ],
             [
              0.1111111111111111,
              "#46039f"
             ],
             [
              0.2222222222222222,
              "#7201a8"
             ],
             [
              0.3333333333333333,
              "#9c179e"
             ],
             [
              0.4444444444444444,
              "#bd3786"
             ],
             [
              0.5555555555555556,
              "#d8576b"
             ],
             [
              0.6666666666666666,
              "#ed7953"
             ],
             [
              0.7777777777777778,
              "#fb9f3a"
             ],
             [
              0.8888888888888888,
              "#fdca26"
             ],
             [
              1,
              "#f0f921"
             ]
            ],
            "type": "histogram2d"
           }
          ],
          "histogram2dcontour": [
           {
            "colorbar": {
             "outlinewidth": 0,
             "ticks": ""
            },
            "colorscale": [
             [
              0,
              "#0d0887"
             ],
             [
              0.1111111111111111,
              "#46039f"
             ],
             [
              0.2222222222222222,
              "#7201a8"
             ],
             [
              0.3333333333333333,
              "#9c179e"
             ],
             [
              0.4444444444444444,
              "#bd3786"
             ],
             [
              0.5555555555555556,
              "#d8576b"
             ],
             [
              0.6666666666666666,
              "#ed7953"
             ],
             [
              0.7777777777777778,
              "#fb9f3a"
             ],
             [
              0.8888888888888888,
              "#fdca26"
             ],
             [
              1,
              "#f0f921"
             ]
            ],
            "type": "histogram2dcontour"
           }
          ],
          "mesh3d": [
           {
            "colorbar": {
             "outlinewidth": 0,
             "ticks": ""
            },
            "type": "mesh3d"
           }
          ],
          "parcoords": [
           {
            "line": {
             "colorbar": {
              "outlinewidth": 0,
              "ticks": ""
             }
            },
            "type": "parcoords"
           }
          ],
          "pie": [
           {
            "automargin": true,
            "type": "pie"
           }
          ],
          "scatter": [
           {
            "marker": {
             "colorbar": {
              "outlinewidth": 0,
              "ticks": ""
             }
            },
            "type": "scatter"
           }
          ],
          "scatter3d": [
           {
            "line": {
             "colorbar": {
              "outlinewidth": 0,
              "ticks": ""
             }
            },
            "marker": {
             "colorbar": {
              "outlinewidth": 0,
              "ticks": ""
             }
            },
            "type": "scatter3d"
           }
          ],
          "scattercarpet": [
           {
            "marker": {
             "colorbar": {
              "outlinewidth": 0,
              "ticks": ""
             }
            },
            "type": "scattercarpet"
           }
          ],
          "scattergeo": [
           {
            "marker": {
             "colorbar": {
              "outlinewidth": 0,
              "ticks": ""
             }
            },
            "type": "scattergeo"
           }
          ],
          "scattergl": [
           {
            "marker": {
             "colorbar": {
              "outlinewidth": 0,
              "ticks": ""
             }
            },
            "type": "scattergl"
           }
          ],
          "scattermapbox": [
           {
            "marker": {
             "colorbar": {
              "outlinewidth": 0,
              "ticks": ""
             }
            },
            "type": "scattermapbox"
           }
          ],
          "scatterpolar": [
           {
            "marker": {
             "colorbar": {
              "outlinewidth": 0,
              "ticks": ""
             }
            },
            "type": "scatterpolar"
           }
          ],
          "scatterpolargl": [
           {
            "marker": {
             "colorbar": {
              "outlinewidth": 0,
              "ticks": ""
             }
            },
            "type": "scatterpolargl"
           }
          ],
          "scatterternary": [
           {
            "marker": {
             "colorbar": {
              "outlinewidth": 0,
              "ticks": ""
             }
            },
            "type": "scatterternary"
           }
          ],
          "surface": [
           {
            "colorbar": {
             "outlinewidth": 0,
             "ticks": ""
            },
            "colorscale": [
             [
              0,
              "#0d0887"
             ],
             [
              0.1111111111111111,
              "#46039f"
             ],
             [
              0.2222222222222222,
              "#7201a8"
             ],
             [
              0.3333333333333333,
              "#9c179e"
             ],
             [
              0.4444444444444444,
              "#bd3786"
             ],
             [
              0.5555555555555556,
              "#d8576b"
             ],
             [
              0.6666666666666666,
              "#ed7953"
             ],
             [
              0.7777777777777778,
              "#fb9f3a"
             ],
             [
              0.8888888888888888,
              "#fdca26"
             ],
             [
              1,
              "#f0f921"
             ]
            ],
            "type": "surface"
           }
          ],
          "table": [
           {
            "cells": {
             "fill": {
              "color": "#EBF0F8"
             },
             "line": {
              "color": "white"
             }
            },
            "header": {
             "fill": {
              "color": "#C8D4E3"
             },
             "line": {
              "color": "white"
             }
            },
            "type": "table"
           }
          ]
         },
         "layout": {
          "annotationdefaults": {
           "arrowcolor": "#2a3f5f",
           "arrowhead": 0,
           "arrowwidth": 1
          },
          "coloraxis": {
           "colorbar": {
            "outlinewidth": 0,
            "ticks": ""
           }
          },
          "colorscale": {
           "diverging": [
            [
             0,
             "#8e0152"
            ],
            [
             0.1,
             "#c51b7d"
            ],
            [
             0.2,
             "#de77ae"
            ],
            [
             0.3,
             "#f1b6da"
            ],
            [
             0.4,
             "#fde0ef"
            ],
            [
             0.5,
             "#f7f7f7"
            ],
            [
             0.6,
             "#e6f5d0"
            ],
            [
             0.7,
             "#b8e186"
            ],
            [
             0.8,
             "#7fbc41"
            ],
            [
             0.9,
             "#4d9221"
            ],
            [
             1,
             "#276419"
            ]
           ],
           "sequential": [
            [
             0,
             "#0d0887"
            ],
            [
             0.1111111111111111,
             "#46039f"
            ],
            [
             0.2222222222222222,
             "#7201a8"
            ],
            [
             0.3333333333333333,
             "#9c179e"
            ],
            [
             0.4444444444444444,
             "#bd3786"
            ],
            [
             0.5555555555555556,
             "#d8576b"
            ],
            [
             0.6666666666666666,
             "#ed7953"
            ],
            [
             0.7777777777777778,
             "#fb9f3a"
            ],
            [
             0.8888888888888888,
             "#fdca26"
            ],
            [
             1,
             "#f0f921"
            ]
           ],
           "sequentialminus": [
            [
             0,
             "#0d0887"
            ],
            [
             0.1111111111111111,
             "#46039f"
            ],
            [
             0.2222222222222222,
             "#7201a8"
            ],
            [
             0.3333333333333333,
             "#9c179e"
            ],
            [
             0.4444444444444444,
             "#bd3786"
            ],
            [
             0.5555555555555556,
             "#d8576b"
            ],
            [
             0.6666666666666666,
             "#ed7953"
            ],
            [
             0.7777777777777778,
             "#fb9f3a"
            ],
            [
             0.8888888888888888,
             "#fdca26"
            ],
            [
             1,
             "#f0f921"
            ]
           ]
          },
          "colorway": [
           "#636efa",
           "#EF553B",
           "#00cc96",
           "#ab63fa",
           "#FFA15A",
           "#19d3f3",
           "#FF6692",
           "#B6E880",
           "#FF97FF",
           "#FECB52"
          ],
          "font": {
           "color": "#2a3f5f"
          },
          "geo": {
           "bgcolor": "white",
           "lakecolor": "white",
           "landcolor": "#E5ECF6",
           "showlakes": true,
           "showland": true,
           "subunitcolor": "white"
          },
          "hoverlabel": {
           "align": "left"
          },
          "hovermode": "closest",
          "mapbox": {
           "style": "light"
          },
          "paper_bgcolor": "white",
          "plot_bgcolor": "#E5ECF6",
          "polar": {
           "angularaxis": {
            "gridcolor": "white",
            "linecolor": "white",
            "ticks": ""
           },
           "bgcolor": "#E5ECF6",
           "radialaxis": {
            "gridcolor": "white",
            "linecolor": "white",
            "ticks": ""
           }
          },
          "scene": {
           "xaxis": {
            "backgroundcolor": "#E5ECF6",
            "gridcolor": "white",
            "gridwidth": 2,
            "linecolor": "white",
            "showbackground": true,
            "ticks": "",
            "zerolinecolor": "white"
           },
           "yaxis": {
            "backgroundcolor": "#E5ECF6",
            "gridcolor": "white",
            "gridwidth": 2,
            "linecolor": "white",
            "showbackground": true,
            "ticks": "",
            "zerolinecolor": "white"
           },
           "zaxis": {
            "backgroundcolor": "#E5ECF6",
            "gridcolor": "white",
            "gridwidth": 2,
            "linecolor": "white",
            "showbackground": true,
            "ticks": "",
            "zerolinecolor": "white"
           }
          },
          "shapedefaults": {
           "line": {
            "color": "#2a3f5f"
           }
          },
          "ternary": {
           "aaxis": {
            "gridcolor": "white",
            "linecolor": "white",
            "ticks": ""
           },
           "baxis": {
            "gridcolor": "white",
            "linecolor": "white",
            "ticks": ""
           },
           "bgcolor": "#E5ECF6",
           "caxis": {
            "gridcolor": "white",
            "linecolor": "white",
            "ticks": ""
           }
          },
          "title": {
           "x": 0.05
          },
          "xaxis": {
           "automargin": true,
           "gridcolor": "white",
           "linecolor": "white",
           "ticks": "",
           "title": {
            "standoff": 15
           },
           "zerolinecolor": "white",
           "zerolinewidth": 2
          },
          "yaxis": {
           "automargin": true,
           "gridcolor": "white",
           "linecolor": "white",
           "ticks": "",
           "title": {
            "standoff": 15
           },
           "zerolinecolor": "white",
           "zerolinewidth": 2
          }
         }
        },
        "title": {
         "text": "Emojis más usados"
        }
       }
      },
      "text/html": [
       "<div>                            <div id=\"92a10321-265c-429b-af06-7a0b054b3015\" class=\"plotly-graph-div\" style=\"height:525px; width:100%;\"></div>            <script type=\"text/javascript\">                require([\"plotly\"], function(Plotly) {                    window.PLOTLYENV=window.PLOTLYENV || {};                                    if (document.getElementById(\"92a10321-265c-429b-af06-7a0b054b3015\")) {                    Plotly.newPlot(                        \"92a10321-265c-429b-af06-7a0b054b3015\",                        [{\"type\": \"bar\", \"x\": [\"\\u2b50\", \"\\u26bd\", \"\\ud83c\\udfc6\", \"\\u231a\", \"\\u2b07\\ufe0f\", \"\\ud83c\\udfdf\", \"\\ud83d\\udcfa\", \"\\u26bd\\ufe0f\", \"\\u26a0\\ufe0f\", \"\\ud83d\\ude21\", \"\\ud83e\\udd14\", \"\\u27a1\\ufe0f\", \"\\ud83d\\udcfb\", \"\\ud83d\\udcc5\", \"\\u23f0\", \"\\ud83d\\udc9a\", \"\\ud83d\\udfe1\", \"\\ud83c\\udfd9\", \"\\ud83c\\udf06\", \"\\u26f3\", \"\\ud83e\\udd47\", \"\\ud83e\\udd45\", \"\\ud83d\\udda5\", \"\\ud83c\\udf99\", \"\\ud83e\\udd0d\"], \"y\": [6, 6, 6, 5, 4, 4, 4, 4, 3, 3, 3, 3, 2, 2, 2, 2, 1, 1, 1, 1, 1, 1, 1, 1, 1]}],                        {\"template\": {\"data\": {\"bar\": [{\"error_x\": {\"color\": \"#2a3f5f\"}, \"error_y\": {\"color\": \"#2a3f5f\"}, \"marker\": {\"line\": {\"color\": \"#E5ECF6\", \"width\": 0.5}}, \"type\": \"bar\"}], \"barpolar\": [{\"marker\": {\"line\": {\"color\": \"#E5ECF6\", \"width\": 0.5}}, \"type\": \"barpolar\"}], \"carpet\": [{\"aaxis\": {\"endlinecolor\": \"#2a3f5f\", \"gridcolor\": \"white\", \"linecolor\": \"white\", \"minorgridcolor\": \"white\", \"startlinecolor\": \"#2a3f5f\"}, \"baxis\": {\"endlinecolor\": \"#2a3f5f\", \"gridcolor\": \"white\", \"linecolor\": \"white\", \"minorgridcolor\": \"white\", \"startlinecolor\": \"#2a3f5f\"}, \"type\": \"carpet\"}], \"choropleth\": [{\"colorbar\": {\"outlinewidth\": 0, \"ticks\": \"\"}, \"type\": \"choropleth\"}], \"contour\": [{\"colorbar\": {\"outlinewidth\": 0, \"ticks\": \"\"}, \"colorscale\": [[0.0, \"#0d0887\"], [0.1111111111111111, \"#46039f\"], [0.2222222222222222, \"#7201a8\"], [0.3333333333333333, \"#9c179e\"], [0.4444444444444444, \"#bd3786\"], [0.5555555555555556, \"#d8576b\"], [0.6666666666666666, \"#ed7953\"], [0.7777777777777778, \"#fb9f3a\"], [0.8888888888888888, \"#fdca26\"], [1.0, \"#f0f921\"]], \"type\": \"contour\"}], \"contourcarpet\": [{\"colorbar\": {\"outlinewidth\": 0, \"ticks\": \"\"}, \"type\": \"contourcarpet\"}], \"heatmap\": [{\"colorbar\": {\"outlinewidth\": 0, \"ticks\": \"\"}, \"colorscale\": [[0.0, \"#0d0887\"], [0.1111111111111111, \"#46039f\"], [0.2222222222222222, \"#7201a8\"], [0.3333333333333333, \"#9c179e\"], [0.4444444444444444, \"#bd3786\"], [0.5555555555555556, \"#d8576b\"], [0.6666666666666666, \"#ed7953\"], [0.7777777777777778, \"#fb9f3a\"], [0.8888888888888888, \"#fdca26\"], [1.0, \"#f0f921\"]], \"type\": \"heatmap\"}], \"heatmapgl\": [{\"colorbar\": {\"outlinewidth\": 0, \"ticks\": \"\"}, \"colorscale\": [[0.0, \"#0d0887\"], [0.1111111111111111, \"#46039f\"], [0.2222222222222222, \"#7201a8\"], [0.3333333333333333, \"#9c179e\"], [0.4444444444444444, \"#bd3786\"], [0.5555555555555556, \"#d8576b\"], [0.6666666666666666, \"#ed7953\"], [0.7777777777777778, \"#fb9f3a\"], [0.8888888888888888, \"#fdca26\"], [1.0, \"#f0f921\"]], \"type\": \"heatmapgl\"}], \"histogram\": [{\"marker\": {\"colorbar\": {\"outlinewidth\": 0, \"ticks\": \"\"}}, \"type\": \"histogram\"}], \"histogram2d\": [{\"colorbar\": {\"outlinewidth\": 0, \"ticks\": \"\"}, \"colorscale\": [[0.0, \"#0d0887\"], [0.1111111111111111, \"#46039f\"], [0.2222222222222222, \"#7201a8\"], [0.3333333333333333, \"#9c179e\"], [0.4444444444444444, \"#bd3786\"], [0.5555555555555556, \"#d8576b\"], [0.6666666666666666, \"#ed7953\"], [0.7777777777777778, \"#fb9f3a\"], [0.8888888888888888, \"#fdca26\"], [1.0, \"#f0f921\"]], \"type\": \"histogram2d\"}], \"histogram2dcontour\": [{\"colorbar\": {\"outlinewidth\": 0, \"ticks\": \"\"}, \"colorscale\": [[0.0, \"#0d0887\"], [0.1111111111111111, \"#46039f\"], [0.2222222222222222, \"#7201a8\"], [0.3333333333333333, \"#9c179e\"], [0.4444444444444444, \"#bd3786\"], [0.5555555555555556, \"#d8576b\"], [0.6666666666666666, \"#ed7953\"], [0.7777777777777778, \"#fb9f3a\"], [0.8888888888888888, \"#fdca26\"], [1.0, \"#f0f921\"]], \"type\": \"histogram2dcontour\"}], \"mesh3d\": [{\"colorbar\": {\"outlinewidth\": 0, \"ticks\": \"\"}, \"type\": \"mesh3d\"}], \"parcoords\": [{\"line\": {\"colorbar\": {\"outlinewidth\": 0, \"ticks\": \"\"}}, \"type\": \"parcoords\"}], \"pie\": [{\"automargin\": true, \"type\": \"pie\"}], \"scatter\": [{\"marker\": {\"colorbar\": {\"outlinewidth\": 0, \"ticks\": \"\"}}, \"type\": \"scatter\"}], \"scatter3d\": [{\"line\": {\"colorbar\": {\"outlinewidth\": 0, \"ticks\": \"\"}}, \"marker\": {\"colorbar\": {\"outlinewidth\": 0, \"ticks\": \"\"}}, \"type\": \"scatter3d\"}], \"scattercarpet\": [{\"marker\": {\"colorbar\": {\"outlinewidth\": 0, \"ticks\": \"\"}}, \"type\": \"scattercarpet\"}], \"scattergeo\": [{\"marker\": {\"colorbar\": {\"outlinewidth\": 0, \"ticks\": \"\"}}, \"type\": \"scattergeo\"}], \"scattergl\": [{\"marker\": {\"colorbar\": {\"outlinewidth\": 0, \"ticks\": \"\"}}, \"type\": \"scattergl\"}], \"scattermapbox\": [{\"marker\": {\"colorbar\": {\"outlinewidth\": 0, \"ticks\": \"\"}}, \"type\": \"scattermapbox\"}], \"scatterpolar\": [{\"marker\": {\"colorbar\": {\"outlinewidth\": 0, \"ticks\": \"\"}}, \"type\": \"scatterpolar\"}], \"scatterpolargl\": [{\"marker\": {\"colorbar\": {\"outlinewidth\": 0, \"ticks\": \"\"}}, \"type\": \"scatterpolargl\"}], \"scatterternary\": [{\"marker\": {\"colorbar\": {\"outlinewidth\": 0, \"ticks\": \"\"}}, \"type\": \"scatterternary\"}], \"surface\": [{\"colorbar\": {\"outlinewidth\": 0, \"ticks\": \"\"}, \"colorscale\": [[0.0, \"#0d0887\"], [0.1111111111111111, \"#46039f\"], [0.2222222222222222, \"#7201a8\"], [0.3333333333333333, \"#9c179e\"], [0.4444444444444444, \"#bd3786\"], [0.5555555555555556, \"#d8576b\"], [0.6666666666666666, \"#ed7953\"], [0.7777777777777778, \"#fb9f3a\"], [0.8888888888888888, \"#fdca26\"], [1.0, \"#f0f921\"]], \"type\": \"surface\"}], \"table\": [{\"cells\": {\"fill\": {\"color\": \"#EBF0F8\"}, \"line\": {\"color\": \"white\"}}, \"header\": {\"fill\": {\"color\": \"#C8D4E3\"}, \"line\": {\"color\": \"white\"}}, \"type\": \"table\"}]}, \"layout\": {\"annotationdefaults\": {\"arrowcolor\": \"#2a3f5f\", \"arrowhead\": 0, \"arrowwidth\": 1}, \"coloraxis\": {\"colorbar\": {\"outlinewidth\": 0, \"ticks\": \"\"}}, \"colorscale\": {\"diverging\": [[0, \"#8e0152\"], [0.1, \"#c51b7d\"], [0.2, \"#de77ae\"], [0.3, \"#f1b6da\"], [0.4, \"#fde0ef\"], [0.5, \"#f7f7f7\"], [0.6, \"#e6f5d0\"], [0.7, \"#b8e186\"], [0.8, \"#7fbc41\"], [0.9, \"#4d9221\"], [1, \"#276419\"]], \"sequential\": [[0.0, \"#0d0887\"], [0.1111111111111111, \"#46039f\"], [0.2222222222222222, \"#7201a8\"], [0.3333333333333333, \"#9c179e\"], [0.4444444444444444, \"#bd3786\"], [0.5555555555555556, \"#d8576b\"], [0.6666666666666666, \"#ed7953\"], [0.7777777777777778, \"#fb9f3a\"], [0.8888888888888888, \"#fdca26\"], [1.0, \"#f0f921\"]], \"sequentialminus\": [[0.0, \"#0d0887\"], [0.1111111111111111, \"#46039f\"], [0.2222222222222222, \"#7201a8\"], [0.3333333333333333, \"#9c179e\"], [0.4444444444444444, \"#bd3786\"], [0.5555555555555556, \"#d8576b\"], [0.6666666666666666, \"#ed7953\"], [0.7777777777777778, \"#fb9f3a\"], [0.8888888888888888, \"#fdca26\"], [1.0, \"#f0f921\"]]}, \"colorway\": [\"#636efa\", \"#EF553B\", \"#00cc96\", \"#ab63fa\", \"#FFA15A\", \"#19d3f3\", \"#FF6692\", \"#B6E880\", \"#FF97FF\", \"#FECB52\"], \"font\": {\"color\": \"#2a3f5f\"}, \"geo\": {\"bgcolor\": \"white\", \"lakecolor\": \"white\", \"landcolor\": \"#E5ECF6\", \"showlakes\": true, \"showland\": true, \"subunitcolor\": \"white\"}, \"hoverlabel\": {\"align\": \"left\"}, \"hovermode\": \"closest\", \"mapbox\": {\"style\": \"light\"}, \"paper_bgcolor\": \"white\", \"plot_bgcolor\": \"#E5ECF6\", \"polar\": {\"angularaxis\": {\"gridcolor\": \"white\", \"linecolor\": \"white\", \"ticks\": \"\"}, \"bgcolor\": \"#E5ECF6\", \"radialaxis\": {\"gridcolor\": \"white\", \"linecolor\": \"white\", \"ticks\": \"\"}}, \"scene\": {\"xaxis\": {\"backgroundcolor\": \"#E5ECF6\", \"gridcolor\": \"white\", \"gridwidth\": 2, \"linecolor\": \"white\", \"showbackground\": true, \"ticks\": \"\", \"zerolinecolor\": \"white\"}, \"yaxis\": {\"backgroundcolor\": \"#E5ECF6\", \"gridcolor\": \"white\", \"gridwidth\": 2, \"linecolor\": \"white\", \"showbackground\": true, \"ticks\": \"\", \"zerolinecolor\": \"white\"}, \"zaxis\": {\"backgroundcolor\": \"#E5ECF6\", \"gridcolor\": \"white\", \"gridwidth\": 2, \"linecolor\": \"white\", \"showbackground\": true, \"ticks\": \"\", \"zerolinecolor\": \"white\"}}, \"shapedefaults\": {\"line\": {\"color\": \"#2a3f5f\"}}, \"ternary\": {\"aaxis\": {\"gridcolor\": \"white\", \"linecolor\": \"white\", \"ticks\": \"\"}, \"baxis\": {\"gridcolor\": \"white\", \"linecolor\": \"white\", \"ticks\": \"\"}, \"bgcolor\": \"#E5ECF6\", \"caxis\": {\"gridcolor\": \"white\", \"linecolor\": \"white\", \"ticks\": \"\"}}, \"title\": {\"x\": 0.05}, \"xaxis\": {\"automargin\": true, \"gridcolor\": \"white\", \"linecolor\": \"white\", \"ticks\": \"\", \"title\": {\"standoff\": 15}, \"zerolinecolor\": \"white\", \"zerolinewidth\": 2}, \"yaxis\": {\"automargin\": true, \"gridcolor\": \"white\", \"linecolor\": \"white\", \"ticks\": \"\", \"title\": {\"standoff\": 15}, \"zerolinecolor\": \"white\", \"zerolinewidth\": 2}}}, \"title\": {\"text\": \"Emojis m\\u00e1s usados\"}},                        {\"responsive\": true}                    ).then(function(){\n",
       "                            \n",
       "var gd = document.getElementById('92a10321-265c-429b-af06-7a0b054b3015');\n",
       "var x = new MutationObserver(function (mutations, observer) {{\n",
       "        var display = window.getComputedStyle(gd).display;\n",
       "        if (!display || display === 'none') {{\n",
       "            console.log([gd, 'removed!']);\n",
       "            Plotly.purge(gd);\n",
       "            observer.disconnect();\n",
       "        }}\n",
       "}});\n",
       "\n",
       "// Listen for the removal of the full notebook cells\n",
       "var notebookContainer = gd.closest('#notebook-container');\n",
       "if (notebookContainer) {{\n",
       "    x.observe(notebookContainer, {childList: true});\n",
       "}}\n",
       "\n",
       "// Listen for the clearing of the current output cell\n",
       "var outputEl = gd.closest('.output');\n",
       "if (outputEl) {{\n",
       "    x.observe(outputEl, {childList: true});\n",
       "}}\n",
       "\n",
       "                        })                };                });            </script>        </div>"
      ]
     },
     "metadata": {},
     "output_type": "display_data"
    }
   ],
   "source": [
    "\n",
    "trace = go.Bar(x=temp_emojis.emoji.values[:25],\n",
    "               y=temp_emojis.cnt.values[:25])\n",
    "\n",
    "layout = go.Layout(title='Emojis más usados')\n",
    "\n",
    "fig = go.Figure(data=[trace], layout=layout)\n",
    "iplot(fig)"
   ]
  }
 ],
 "metadata": {
  "kernelspec": {
   "display_name": "Python 3",
   "language": "python",
   "name": "python3"
  },
  "language_info": {
   "codemirror_mode": {
    "name": "ipython",
    "version": 3
   },
   "file_extension": ".py",
   "mimetype": "text/x-python",
   "name": "python",
   "nbconvert_exporter": "python",
   "pygments_lexer": "ipython3",
   "version": "3.8.5"
  }
 },
 "nbformat": 4,
 "nbformat_minor": 4
}

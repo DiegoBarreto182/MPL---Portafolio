{
 "cells": [
  {
   "cell_type": "code",
   "execution_count": 12,
   "metadata": {},
   "outputs": [
    {
     "data": {
      "text/plain": [
       "dict_keys(['api_key', 'api_secret_key', 'access_token', 'access_token_secret', 'bearer_token'])"
      ]
     },
     "execution_count": 12,
     "metadata": {},
     "output_type": "execute_result"
    }
   ],
   "source": [
    "import pandas as pd\n",
    "import tweepy\n",
    "\n",
    "# Leer las llaves\n",
    "keys = pd.read_csv(\"mis_llaves.csv\", header=None)\n",
    "keys = dict(zip(keys[0],keys[1]))\n",
    "keys.keys()"
   ]
  },
  {
   "cell_type": "code",
   "execution_count": 13,
   "metadata": {},
   "outputs": [],
   "source": [
    "# Autenticar a través de la API \n",
    "auth = tweepy.OAuthHandler(keys['api_key'], keys['api_secret_key'])\n",
    "auth.set_access_token(keys['access_token'], keys['access_token_secret'])\n",
    "api = tweepy.API(auth, wait_on_rate_limit=True)"
   ]
  },
  {
   "cell_type": "code",
   "execution_count": 14,
   "metadata": {},
   "outputs": [],
   "source": [
    "tweets = tweepy.Cursor(api.search,\n",
    "                       q=['atletico nacional -RT'],\n",
    "                       lang='es',\n",
    "                       geocode='3.42158,-76.5205,1000km',\n",
    "                       tweet_mode='extended',\n",
    "                       include_rts=False,\n",
    "                       ).items(100)"
   ]
  },
  {
   "cell_type": "code",
   "execution_count": 15,
   "metadata": {},
   "outputs": [],
   "source": [
    "# Objeto generador\n",
    "t = [tweet for tweet in tweets]"
   ]
  },
  {
   "cell_type": "code",
   "execution_count": 17,
   "metadata": {},
   "outputs": [
    {
     "data": {
      "text/html": [
       "<div>\n",
       "<style scoped>\n",
       "    .dataframe tbody tr th:only-of-type {\n",
       "        vertical-align: middle;\n",
       "    }\n",
       "\n",
       "    .dataframe tbody tr th {\n",
       "        vertical-align: top;\n",
       "    }\n",
       "\n",
       "    .dataframe thead th {\n",
       "        text-align: right;\n",
       "    }\n",
       "</style>\n",
       "<table border=\"1\" class=\"dataframe\">\n",
       "  <thead>\n",
       "    <tr style=\"text-align: right;\">\n",
       "      <th></th>\n",
       "      <th>tweets</th>\n",
       "      <th>date</th>\n",
       "      <th>city</th>\n",
       "      <th>user_location</th>\n",
       "      <th>id</th>\n",
       "      <th>link</th>\n",
       "    </tr>\n",
       "  </thead>\n",
       "  <tbody>\n",
       "    <tr>\n",
       "      <th>0</th>\n",
       "      <td>¡ A TODO O NADA VERDOLAGAS !\\n\\nEl partido para la clasificación a la siguiente ronda se juega en Chile, Atlético Nacional obligado a vencer a Universidad Católica. ¡No se pierdan todas las emociones del juego escuchando @DeportesG5 \\n\\n¡Los esperamos en sintonía! https://t.co/yMYYryzb20</td>\n",
       "      <td>2021-05-24 21:04:12</td>\n",
       "      <td>Medellin</td>\n",
       "      <td>Medellín, Colombia</td>\n",
       "      <td>1396935085077696513</td>\n",
       "      <td>https://twitter.com/i/web/stuatus/1396935085077696513</td>\n",
       "    </tr>\n",
       "    <tr>\n",
       "      <th>1</th>\n",
       "      <td>De embajadora a escarlata.Paula Villarraga es la nueva portera del @AmericaCaliFem la bogotana de 29 años quien tuvo paso por Fortaleza, Atlético Nacional y Millonarios ya inició trabajos con el equipo y llega para pelear la titularidad del arco escarlata. Para ella muchos éxitos https://t.co/1oTIdPqH3n</td>\n",
       "      <td>2021-05-24 20:53:20</td>\n",
       "      <td>Medellin</td>\n",
       "      <td>Valle del Cauca, Colombia</td>\n",
       "      <td>1396932350643249156</td>\n",
       "      <td>https://twitter.com/i/web/stuatus/1396932350643249156</td>\n",
       "    </tr>\n",
       "    <tr>\n",
       "      <th>2</th>\n",
       "      <td>Jarlan Barrera saldría de Nacional, según, al atlético Mineiro. Pero teniendo en cuenta el pedido de un enganche del Profe Amaranto, le darías una nueva oportunidad en Junior a JB10? Espero sus opiniones!</td>\n",
       "      <td>2021-05-24 20:51:38</td>\n",
       "      <td>Medellin</td>\n",
       "      <td>Barranquilla, Colombia</td>\n",
       "      <td>1396931920953585677</td>\n",
       "      <td>https://twitter.com/i/web/stuatus/1396931920953585677</td>\n",
       "    </tr>\n",
       "    <tr>\n",
       "      <th>3</th>\n",
       "      <td>🇨🇴 Se vienen dos duelos importantes para mantener el sueño de la Selección Colombia\\n🤝 Rueda volverá a trabajar con jugadores que potenció y a los que dio confianza cuando estuvo en Atlético Nacional y Flamengo\\n\\nhttps://t.co/C7WtfRQFrA</td>\n",
       "      <td>2021-05-24 20:35:00</td>\n",
       "      <td>Medellin</td>\n",
       "      <td>Colombia</td>\n",
       "      <td>1396927734719283200</td>\n",
       "      <td>https://twitter.com/i/web/stuatus/1396927734719283200</td>\n",
       "    </tr>\n",
       "    <tr>\n",
       "      <th>4</th>\n",
       "      <td>¡A vencer o morir! 💪 Con estos jugadores, 🇳🇬 Atlético Nacional (@nacionaloficial) viajó a 🇨🇱 Chile para el decisivo duelo ante la U. Católica (@Cruzados) por la 🏆 Copa Libertadores\\n\\nVER MÁS EN 👉https://t.co/ND9Am2J4nm https://t.co/HhxUAQAkYW</td>\n",
       "      <td>2021-05-24 20:28:48</td>\n",
       "      <td>Medellin</td>\n",
       "      <td>Medellín, Antioquia</td>\n",
       "      <td>1396926173305782272</td>\n",
       "      <td>https://twitter.com/i/web/stuatus/1396926173305782272</td>\n",
       "    </tr>\n",
       "  </tbody>\n",
       "</table>\n",
       "</div>"
      ],
      "text/plain": [
       "                                                                                                                                                                                                                                                                                                             tweets  \\\n",
       "0                  ¡ A TODO O NADA VERDOLAGAS !\\n\\nEl partido para la clasificación a la siguiente ronda se juega en Chile, Atlético Nacional obligado a vencer a Universidad Católica. ¡No se pierdan todas las emociones del juego escuchando @DeportesG5 \\n\\n¡Los esperamos en sintonía! https://t.co/yMYYryzb20   \n",
       "1  De embajadora a escarlata.Paula Villarraga es la nueva portera del @AmericaCaliFem la bogotana de 29 años quien tuvo paso por Fortaleza, Atlético Nacional y Millonarios ya inició trabajos con el equipo y llega para pelear la titularidad del arco escarlata. Para ella muchos éxitos https://t.co/1oTIdPqH3n   \n",
       "2                                                                                                      Jarlan Barrera saldría de Nacional, según, al atlético Mineiro. Pero teniendo en cuenta el pedido de un enganche del Profe Amaranto, le darías una nueva oportunidad en Junior a JB10? Espero sus opiniones!   \n",
       "3                                                                     🇨🇴 Se vienen dos duelos importantes para mantener el sueño de la Selección Colombia\\n🤝 Rueda volverá a trabajar con jugadores que potenció y a los que dio confianza cuando estuvo en Atlético Nacional y Flamengo\\n\\nhttps://t.co/C7WtfRQFrA   \n",
       "4                                                               ¡A vencer o morir! 💪 Con estos jugadores, 🇳🇬 Atlético Nacional (@nacionaloficial) viajó a 🇨🇱 Chile para el decisivo duelo ante la U. Católica (@Cruzados) por la 🏆 Copa Libertadores\\n\\nVER MÁS EN 👉https://t.co/ND9Am2J4nm https://t.co/HhxUAQAkYW   \n",
       "\n",
       "                 date      city              user_location  \\\n",
       "0 2021-05-24 21:04:12  Medellin         Medellín, Colombia   \n",
       "1 2021-05-24 20:53:20  Medellin  Valle del Cauca, Colombia   \n",
       "2 2021-05-24 20:51:38  Medellin     Barranquilla, Colombia   \n",
       "3 2021-05-24 20:35:00  Medellin                   Colombia   \n",
       "4 2021-05-24 20:28:48  Medellin        Medellín, Antioquia   \n",
       "\n",
       "                    id                                                   link  \n",
       "0  1396935085077696513  https://twitter.com/i/web/stuatus/1396935085077696513  \n",
       "1  1396932350643249156  https://twitter.com/i/web/stuatus/1396932350643249156  \n",
       "2  1396931920953585677  https://twitter.com/i/web/stuatus/1396931920953585677  \n",
       "3  1396927734719283200  https://twitter.com/i/web/stuatus/1396927734719283200  \n",
       "4  1396926173305782272  https://twitter.com/i/web/stuatus/1396926173305782272  "
      ]
     },
     "execution_count": 17,
     "metadata": {},
     "output_type": "execute_result"
    }
   ],
   "source": [
    "t_processed = []\n",
    "\n",
    "for tweet in t: \n",
    "    temp = []\n",
    "    temp.append(tweet.full_text)\n",
    "    temp.append(tweet.created_at)\n",
    "    temp.append('Medellin')\n",
    "    temp.append(tweet.user.location)\n",
    "    temp.append(tweet.id)\n",
    "    temp.append(f\"https://twitter.com/i/web/stuatus/{tweet.id}\")\n",
    "    \n",
    "    t_processed.append(temp)\n",
    "    \n",
    "    \n",
    "data = pd.DataFrame(t_processed)\n",
    "data.columns = ['tweets', 'date', 'city', 'user_location', 'id', 'link']\n",
    "data.head()"
   ]
  },
  {
   "cell_type": "code",
   "execution_count": null,
   "metadata": {},
   "outputs": [],
   "source": [
    "PUNTO 1 "
   ]
  },
  {
   "cell_type": "code",
   "execution_count": 18,
   "metadata": {},
   "outputs": [],
   "source": [
    "from textblob import TextBlob\n",
    "from vaderSentiment.vaderSentiment import SentimentIntensityAnalyzer\n",
    "vader = SentimentIntensityAnalyzer()"
   ]
  },
  {
   "cell_type": "code",
   "execution_count": 22,
   "metadata": {},
   "outputs": [
    {
     "data": {
      "text/html": [
       "<div>\n",
       "<style scoped>\n",
       "    .dataframe tbody tr th:only-of-type {\n",
       "        vertical-align: middle;\n",
       "    }\n",
       "\n",
       "    .dataframe tbody tr th {\n",
       "        vertical-align: top;\n",
       "    }\n",
       "\n",
       "    .dataframe thead th {\n",
       "        text-align: right;\n",
       "    }\n",
       "</style>\n",
       "<table border=\"1\" class=\"dataframe\">\n",
       "  <thead>\n",
       "    <tr style=\"text-align: right;\">\n",
       "      <th></th>\n",
       "      <th>tweets</th>\n",
       "      <th>sent_vader</th>\n",
       "    </tr>\n",
       "  </thead>\n",
       "  <tbody>\n",
       "    <tr>\n",
       "      <th>39</th>\n",
       "      <td>@pipe3dc @LDSoficial El cliente de un equipo de fútbol es el hincha por lo tanto tiene total derecho a reclamar si no está satisfecho con su producto, en este caso, Atlético Nacional. Lo que se hizo hoy estuvo perfecto.</td>\n",
       "      <td>0.0258</td>\n",
       "    </tr>\n",
       "    <tr>\n",
       "      <th>32</th>\n",
       "      <td>¡DEMANDA!\\n\\nMiguel Ángel Borja demandó al Atlético Nacional por 240 mil dólares, equivalentes al 8% de su transferencia a Palmeiras que aún no se le ha pagado. \\n\\n#JuniorAUnClick https://t.co/scxOU3rzXp</td>\n",
       "      <td>0.1260</td>\n",
       "    </tr>\n",
       "    <tr>\n",
       "      <th>78</th>\n",
       "      <td>Me parece perfecto que el presi Emilio estuviese ahí, que haya escuchado a la hinchada y se fije la idea de lo que es Atlético Nacional.</td>\n",
       "      <td>0.3182</td>\n",
       "    </tr>\n",
       "    <tr>\n",
       "      <th>12</th>\n",
       "      <td>⚽️El futbolista de Atlético Nacional, Baldomero Perlaza, habló sobre su convocatoria a la Selección Colombia, siendo muy sentimentalista ante la oportunidad que tiene con la 'Tricolor' 💪🇨🇴▶https://t.co/rRbH45eLvy https://t.co/1zY0rzJjj7</td>\n",
       "      <td>0.3400</td>\n",
       "    </tr>\n",
       "    <tr>\n",
       "      <th>13</th>\n",
       "      <td>🇳🇬😀 Atlético Nacional contará con el regreso de Jefferson Duque para el partido contra Universidad Católica en Chile. Jarlan Barrera y Danovis Banguero también vuelven en el 'Verdolaga' ➡️➡️ https://t.co/n6oxQO7gs6 https://t.co/7YU3Ck2sPk</td>\n",
       "      <td>0.3612</td>\n",
       "    </tr>\n",
       "  </tbody>\n",
       "</table>\n",
       "</div>"
      ],
      "text/plain": [
       "                                                                                                                                                                                                                                            tweets  \\\n",
       "39                     @pipe3dc @LDSoficial El cliente de un equipo de fútbol es el hincha por lo tanto tiene total derecho a reclamar si no está satisfecho con su producto, en este caso, Atlético Nacional. Lo que se hizo hoy estuvo perfecto.   \n",
       "32                                    ¡DEMANDA!\\n\\nMiguel Ángel Borja demandó al Atlético Nacional por 240 mil dólares, equivalentes al 8% de su transferencia a Palmeiras que aún no se le ha pagado. \\n\\n#JuniorAUnClick https://t.co/scxOU3rzXp   \n",
       "78                                                                                                        Me parece perfecto que el presi Emilio estuviese ahí, que haya escuchado a la hinchada y se fije la idea de lo que es Atlético Nacional.   \n",
       "12    ⚽️El futbolista de Atlético Nacional, Baldomero Perlaza, habló sobre su convocatoria a la Selección Colombia, siendo muy sentimentalista ante la oportunidad que tiene con la 'Tricolor' 💪🇨🇴▶https://t.co/rRbH45eLvy https://t.co/1zY0rzJjj7   \n",
       "13  🇳🇬😀 Atlético Nacional contará con el regreso de Jefferson Duque para el partido contra Universidad Católica en Chile. Jarlan Barrera y Danovis Banguero también vuelven en el 'Verdolaga' ➡️➡️ https://t.co/n6oxQO7gs6 https://t.co/7YU3Ck2sPk   \n",
       "\n",
       "    sent_vader  \n",
       "39      0.0258  \n",
       "32      0.1260  \n",
       "78      0.3182  \n",
       "12      0.3400  \n",
       "13      0.3612  "
      ]
     },
     "execution_count": 22,
     "metadata": {},
     "output_type": "execute_result"
    }
   ],
   "source": [
    "pd.set_option('display.max_colwidth', None)\n",
    "\n",
    "data['sent_vader'] = data['tweets'].apply(lambda val: vader.polarity_scores(val)['compound'])\n",
    "data['sent_textblob'] = data['tweets'].apply(lambda val: TextBlob(val).sentiment.polarity)\n",
    "data[['tweets', 'sent_vader', 'sent_textblob']].head()\n",
    "\n",
    "data[['tweets', 'sent_vader']].sort_values('sent_vader').tail()"
   ]
  },
  {
   "cell_type": "code",
   "execution_count": 23,
   "metadata": {},
   "outputs": [
    {
     "data": {
      "text/plain": [
       "tweets           🗣️ Sobre Vladimir Hernández:\\n\\nEs una opción que maneja @JuniorVAVEL, sin embargo, la edad, su alto costo en salario y su contrato vigente, sumado al hecho de que volvió a Colombia, pero a jugar con Atlético Nacional, son hechos que ponen distante la operación a que se efectúe. ✍🏽\n",
       "date                                                                                                                                                                                                                                                                                    2021-05-24 21:04:12\n",
       "city                                                                                                                                                                                                                                                                                               Medellin\n",
       "user_location                                                                                                                                                                                                                                                                                      colombia\n",
       "id                                                                                                                                                                                                                                                                                      1396935085077696513\n",
       "link                                                                                                                                                                                                                                                  https://twitter.com/i/web/stuatus/1396935085077696513\n",
       "sent_vader                                                                                                                                                                                                                                                                                           0.3612\n",
       "sent_textblob                                                                                                                                                                                                                                                                                           0.2\n",
       "dtype: object"
      ]
     },
     "execution_count": 23,
     "metadata": {},
     "output_type": "execute_result"
    }
   ],
   "source": [
    "# mensaje mas positivo\n",
    "maxs = data.max()\n",
    "maxs"
   ]
  },
  {
   "cell_type": "code",
   "execution_count": 24,
   "metadata": {},
   "outputs": [
    {
     "data": {
      "text/plain": [
       "tweets           \"El problema de Atlético Nacional es que siempre empieza los partidos jugando con 10\" @Rafagol_Linares \\n\\n#ElSúperDebate\\nhttps://t.co/vg8yCrEvyB https://t.co/7GI4o0utVf\n",
       "date                                                                                                                                                                    2021-05-23 19:55:08\n",
       "city                                                                                                                                                                               Medellin\n",
       "user_location                                                                                                                                                                     Argentina\n",
       "id                                                                                                                                                                      1396555313013272576\n",
       "link                                                                                                                                  https://twitter.com/i/web/stuatus/1396555313013272576\n",
       "sent_vader                                                                                                                                                                          -0.7906\n",
       "sent_textblob                                                                                                                                                                           0.0\n",
       "dtype: object"
      ]
     },
     "execution_count": 24,
     "metadata": {},
     "output_type": "execute_result"
    }
   ],
   "source": [
    "# Mensaje mas negativo\n",
    "min = data.min()\n",
    "min"
   ]
  }
 ],
 "metadata": {
  "kernelspec": {
   "display_name": "Python 3",
   "language": "python",
   "name": "python3"
  },
  "language_info": {
   "codemirror_mode": {
    "name": "ipython",
    "version": 3
   },
   "file_extension": ".py",
   "mimetype": "text/x-python",
   "name": "python",
   "nbconvert_exporter": "python",
   "pygments_lexer": "ipython3",
   "version": "3.8.5"
  }
 },
 "nbformat": 4,
 "nbformat_minor": 4
}
